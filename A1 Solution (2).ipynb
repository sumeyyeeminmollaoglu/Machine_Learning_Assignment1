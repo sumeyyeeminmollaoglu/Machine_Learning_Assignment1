{
 "cells": [
  {
   "cell_type": "code",
   "execution_count": 1,
   "metadata": {},
   "outputs": [],
   "source": [
    "# python version: python3"
   ]
  },
  {
   "cell_type": "code",
   "execution_count": 2,
   "metadata": {},
   "outputs": [],
   "source": [
    "import pandas as pd\n",
    "import numpy as np"
   ]
  },
  {
   "cell_type": "markdown",
   "metadata": {},
   "source": [
    "## DATA EXPLORATION & PREPARATION"
   ]
  },
  {
   "cell_type": "markdown",
   "metadata": {},
   "source": [
    "### part a"
   ]
  },
  {
   "cell_type": "code",
   "execution_count": 3,
   "metadata": {},
   "outputs": [],
   "source": [
    "train = pd.read_csv(\"train.csv\")\n",
    "test = pd.read_csv(\"test.csv\")"
   ]
  },
  {
   "cell_type": "code",
   "execution_count": 4,
   "metadata": {},
   "outputs": [],
   "source": [
    "train_x_a = train.drop(u'SalePrice',axis=1)\n",
    "train_y = train[['SalePrice']]"
   ]
  },
  {
   "cell_type": "code",
   "execution_count": 5,
   "metadata": {},
   "outputs": [
    {
     "data": {
      "text/html": [
       "<div>\n",
       "<style scoped>\n",
       "    .dataframe tbody tr th:only-of-type {\n",
       "        vertical-align: middle;\n",
       "    }\n",
       "\n",
       "    .dataframe tbody tr th {\n",
       "        vertical-align: top;\n",
       "    }\n",
       "\n",
       "    .dataframe thead th {\n",
       "        text-align: right;\n",
       "    }\n",
       "</style>\n",
       "<table border=\"1\" class=\"dataframe\">\n",
       "  <thead>\n",
       "    <tr style=\"text-align: right;\">\n",
       "      <th></th>\n",
       "      <th>MSSubClass</th>\n",
       "      <th>LotFrontage</th>\n",
       "      <th>LotArea</th>\n",
       "      <th>Street</th>\n",
       "      <th>OverallQual</th>\n",
       "      <th>OverallCond</th>\n",
       "      <th>MasVnrArea</th>\n",
       "      <th>BsmtFinSF1</th>\n",
       "      <th>BsmtUnfSF</th>\n",
       "      <th>TotalBsmtSF</th>\n",
       "      <th>...</th>\n",
       "      <th>BsmtHalfBath</th>\n",
       "      <th>FullBath</th>\n",
       "      <th>HalfBath</th>\n",
       "      <th>BedroomAbvGr</th>\n",
       "      <th>KitchenAbvGr</th>\n",
       "      <th>TotRmsAbvGrd</th>\n",
       "      <th>Fireplaces</th>\n",
       "      <th>GarageCars</th>\n",
       "      <th>GarageArea</th>\n",
       "      <th>MoSold</th>\n",
       "    </tr>\n",
       "  </thead>\n",
       "  <tbody>\n",
       "    <tr>\n",
       "      <th>0</th>\n",
       "      <td>60</td>\n",
       "      <td>65.0</td>\n",
       "      <td>8450</td>\n",
       "      <td>Pave</td>\n",
       "      <td>7</td>\n",
       "      <td>5</td>\n",
       "      <td>196.0</td>\n",
       "      <td>706</td>\n",
       "      <td>150</td>\n",
       "      <td>856</td>\n",
       "      <td>...</td>\n",
       "      <td>0</td>\n",
       "      <td>2</td>\n",
       "      <td>1</td>\n",
       "      <td>3</td>\n",
       "      <td>1</td>\n",
       "      <td>8</td>\n",
       "      <td>0</td>\n",
       "      <td>2</td>\n",
       "      <td>548</td>\n",
       "      <td>2</td>\n",
       "    </tr>\n",
       "    <tr>\n",
       "      <th>1</th>\n",
       "      <td>20</td>\n",
       "      <td>80.0</td>\n",
       "      <td>9600</td>\n",
       "      <td>Pave</td>\n",
       "      <td>6</td>\n",
       "      <td>8</td>\n",
       "      <td>0.0</td>\n",
       "      <td>978</td>\n",
       "      <td>284</td>\n",
       "      <td>1262</td>\n",
       "      <td>...</td>\n",
       "      <td>1</td>\n",
       "      <td>2</td>\n",
       "      <td>0</td>\n",
       "      <td>3</td>\n",
       "      <td>1</td>\n",
       "      <td>6</td>\n",
       "      <td>1</td>\n",
       "      <td>2</td>\n",
       "      <td>460</td>\n",
       "      <td>5</td>\n",
       "    </tr>\n",
       "  </tbody>\n",
       "</table>\n",
       "<p>2 rows × 25 columns</p>\n",
       "</div>"
      ],
      "text/plain": [
       "   MSSubClass  LotFrontage  LotArea Street  OverallQual  OverallCond  \\\n",
       "0          60         65.0     8450   Pave            7            5   \n",
       "1          20         80.0     9600   Pave            6            8   \n",
       "\n",
       "   MasVnrArea  BsmtFinSF1  BsmtUnfSF  TotalBsmtSF   ...    BsmtHalfBath  \\\n",
       "0       196.0         706        150          856   ...               0   \n",
       "1         0.0         978        284         1262   ...               1   \n",
       "\n",
       "   FullBath  HalfBath  BedroomAbvGr  KitchenAbvGr  TotRmsAbvGrd  Fireplaces  \\\n",
       "0         2         1             3             1             8           0   \n",
       "1         2         0             3             1             6           1   \n",
       "\n",
       "   GarageCars  GarageArea  MoSold  \n",
       "0           2         548       2  \n",
       "1           2         460       5  \n",
       "\n",
       "[2 rows x 25 columns]"
      ]
     },
     "execution_count": 5,
     "metadata": {},
     "output_type": "execute_result"
    }
   ],
   "source": [
    "train_x_a.head(2)"
   ]
  },
  {
   "cell_type": "code",
   "execution_count": 6,
   "metadata": {},
   "outputs": [
    {
     "data": {
      "text/html": [
       "<div>\n",
       "<style scoped>\n",
       "    .dataframe tbody tr th:only-of-type {\n",
       "        vertical-align: middle;\n",
       "    }\n",
       "\n",
       "    .dataframe tbody tr th {\n",
       "        vertical-align: top;\n",
       "    }\n",
       "\n",
       "    .dataframe thead th {\n",
       "        text-align: right;\n",
       "    }\n",
       "</style>\n",
       "<table border=\"1\" class=\"dataframe\">\n",
       "  <thead>\n",
       "    <tr style=\"text-align: right;\">\n",
       "      <th></th>\n",
       "      <th>SalePrice</th>\n",
       "    </tr>\n",
       "  </thead>\n",
       "  <tbody>\n",
       "    <tr>\n",
       "      <th>0</th>\n",
       "      <td>208500</td>\n",
       "    </tr>\n",
       "    <tr>\n",
       "      <th>1</th>\n",
       "      <td>181500</td>\n",
       "    </tr>\n",
       "  </tbody>\n",
       "</table>\n",
       "</div>"
      ],
      "text/plain": [
       "   SalePrice\n",
       "0     208500\n",
       "1     181500"
      ]
     },
     "execution_count": 6,
     "metadata": {},
     "output_type": "execute_result"
    }
   ],
   "source": [
    "train_y.head(2)"
   ]
  },
  {
   "cell_type": "markdown",
   "metadata": {},
   "source": [
    "### part b"
   ]
  },
  {
   "cell_type": "code",
   "execution_count": 7,
   "metadata": {},
   "outputs": [
    {
     "data": {
      "text/plain": [
       "SalePrice    0\n",
       "dtype: int64"
      ]
     },
     "execution_count": 7,
     "metadata": {},
     "output_type": "execute_result"
    }
   ],
   "source": [
    "train_y.isnull().sum()"
   ]
  },
  {
   "cell_type": "code",
   "execution_count": 8,
   "metadata": {},
   "outputs": [],
   "source": [
    "nulls = train_x_a.isnull().sum().to_dict()"
   ]
  },
  {
   "cell_type": "code",
   "execution_count": 9,
   "metadata": {},
   "outputs": [],
   "source": [
    "nan_columns = [col for col,null in nulls.items() if null>0] \n",
    "train_x_b = train_x_a.fillna(train_x_a.median())"
   ]
  },
  {
   "cell_type": "code",
   "execution_count": 10,
   "metadata": {},
   "outputs": [
    {
     "name": "stdout",
     "output_type": "stream",
     "text": [
      "['LotFrontage', 'MasVnrArea']\n"
     ]
    }
   ],
   "source": [
    "print(nan_columns)"
   ]
  },
  {
   "cell_type": "code",
   "execution_count": 11,
   "metadata": {},
   "outputs": [
    {
     "data": {
      "text/html": [
       "<div>\n",
       "<style scoped>\n",
       "    .dataframe tbody tr th:only-of-type {\n",
       "        vertical-align: middle;\n",
       "    }\n",
       "\n",
       "    .dataframe tbody tr th {\n",
       "        vertical-align: top;\n",
       "    }\n",
       "\n",
       "    .dataframe thead th {\n",
       "        text-align: right;\n",
       "    }\n",
       "</style>\n",
       "<table border=\"1\" class=\"dataframe\">\n",
       "  <thead>\n",
       "    <tr style=\"text-align: right;\">\n",
       "      <th></th>\n",
       "      <th>MSSubClass</th>\n",
       "      <th>LotFrontage</th>\n",
       "      <th>LotArea</th>\n",
       "      <th>Street</th>\n",
       "      <th>OverallQual</th>\n",
       "      <th>OverallCond</th>\n",
       "      <th>MasVnrArea</th>\n",
       "      <th>BsmtFinSF1</th>\n",
       "      <th>BsmtUnfSF</th>\n",
       "      <th>TotalBsmtSF</th>\n",
       "      <th>...</th>\n",
       "      <th>BsmtHalfBath</th>\n",
       "      <th>FullBath</th>\n",
       "      <th>HalfBath</th>\n",
       "      <th>BedroomAbvGr</th>\n",
       "      <th>KitchenAbvGr</th>\n",
       "      <th>TotRmsAbvGrd</th>\n",
       "      <th>Fireplaces</th>\n",
       "      <th>GarageCars</th>\n",
       "      <th>GarageArea</th>\n",
       "      <th>MoSold</th>\n",
       "    </tr>\n",
       "  </thead>\n",
       "  <tbody>\n",
       "    <tr>\n",
       "      <th>0</th>\n",
       "      <td>60</td>\n",
       "      <td>65.0</td>\n",
       "      <td>8450</td>\n",
       "      <td>Pave</td>\n",
       "      <td>7</td>\n",
       "      <td>5</td>\n",
       "      <td>196.0</td>\n",
       "      <td>706</td>\n",
       "      <td>150</td>\n",
       "      <td>856</td>\n",
       "      <td>...</td>\n",
       "      <td>0</td>\n",
       "      <td>2</td>\n",
       "      <td>1</td>\n",
       "      <td>3</td>\n",
       "      <td>1</td>\n",
       "      <td>8</td>\n",
       "      <td>0</td>\n",
       "      <td>2</td>\n",
       "      <td>548</td>\n",
       "      <td>2</td>\n",
       "    </tr>\n",
       "    <tr>\n",
       "      <th>1</th>\n",
       "      <td>20</td>\n",
       "      <td>80.0</td>\n",
       "      <td>9600</td>\n",
       "      <td>Pave</td>\n",
       "      <td>6</td>\n",
       "      <td>8</td>\n",
       "      <td>0.0</td>\n",
       "      <td>978</td>\n",
       "      <td>284</td>\n",
       "      <td>1262</td>\n",
       "      <td>...</td>\n",
       "      <td>1</td>\n",
       "      <td>2</td>\n",
       "      <td>0</td>\n",
       "      <td>3</td>\n",
       "      <td>1</td>\n",
       "      <td>6</td>\n",
       "      <td>1</td>\n",
       "      <td>2</td>\n",
       "      <td>460</td>\n",
       "      <td>5</td>\n",
       "    </tr>\n",
       "  </tbody>\n",
       "</table>\n",
       "<p>2 rows × 25 columns</p>\n",
       "</div>"
      ],
      "text/plain": [
       "   MSSubClass  LotFrontage  LotArea Street  OverallQual  OverallCond  \\\n",
       "0          60         65.0     8450   Pave            7            5   \n",
       "1          20         80.0     9600   Pave            6            8   \n",
       "\n",
       "   MasVnrArea  BsmtFinSF1  BsmtUnfSF  TotalBsmtSF   ...    BsmtHalfBath  \\\n",
       "0       196.0         706        150          856   ...               0   \n",
       "1         0.0         978        284         1262   ...               1   \n",
       "\n",
       "   FullBath  HalfBath  BedroomAbvGr  KitchenAbvGr  TotRmsAbvGrd  Fireplaces  \\\n",
       "0         2         1             3             1             8           0   \n",
       "1         2         0             3             1             6           1   \n",
       "\n",
       "   GarageCars  GarageArea  MoSold  \n",
       "0           2         548       2  \n",
       "1           2         460       5  \n",
       "\n",
       "[2 rows x 25 columns]"
      ]
     },
     "execution_count": 11,
     "metadata": {},
     "output_type": "execute_result"
    }
   ],
   "source": [
    "train_x_b.head(2)"
   ]
  },
  {
   "cell_type": "markdown",
   "metadata": {},
   "source": [
    "### part c"
   ]
  },
  {
   "cell_type": "code",
   "execution_count": 12,
   "metadata": {},
   "outputs": [],
   "source": [
    "datatypes = train_x_a.dtypes.to_dict()"
   ]
  },
  {
   "cell_type": "code",
   "execution_count": 13,
   "metadata": {},
   "outputs": [],
   "source": [
    "categorical_columns = [col for col,typ in datatypes.items() if typ==\"O\"]"
   ]
  },
  {
   "cell_type": "code",
   "execution_count": 14,
   "metadata": {},
   "outputs": [
    {
     "name": "stdout",
     "output_type": "stream",
     "text": [
      "['Street']\n"
     ]
    }
   ],
   "source": [
    "print(categorical_columns)"
   ]
  },
  {
   "cell_type": "markdown",
   "metadata": {},
   "source": [
    "### part d"
   ]
  },
  {
   "cell_type": "code",
   "execution_count": 15,
   "metadata": {},
   "outputs": [],
   "source": [
    "one_hot = pd.get_dummies(train_x_b['Street'])"
   ]
  },
  {
   "cell_type": "code",
   "execution_count": 16,
   "metadata": {},
   "outputs": [],
   "source": [
    "train_x_d = pd.concat([train_x_b.drop([\"Street\"],axis=1),one_hot],axis=1)"
   ]
  },
  {
   "cell_type": "code",
   "execution_count": 17,
   "metadata": {},
   "outputs": [
    {
     "data": {
      "text/html": [
       "<div>\n",
       "<style scoped>\n",
       "    .dataframe tbody tr th:only-of-type {\n",
       "        vertical-align: middle;\n",
       "    }\n",
       "\n",
       "    .dataframe tbody tr th {\n",
       "        vertical-align: top;\n",
       "    }\n",
       "\n",
       "    .dataframe thead th {\n",
       "        text-align: right;\n",
       "    }\n",
       "</style>\n",
       "<table border=\"1\" class=\"dataframe\">\n",
       "  <thead>\n",
       "    <tr style=\"text-align: right;\">\n",
       "      <th></th>\n",
       "      <th>MSSubClass</th>\n",
       "      <th>LotFrontage</th>\n",
       "      <th>LotArea</th>\n",
       "      <th>OverallQual</th>\n",
       "      <th>OverallCond</th>\n",
       "      <th>MasVnrArea</th>\n",
       "      <th>BsmtFinSF1</th>\n",
       "      <th>BsmtUnfSF</th>\n",
       "      <th>TotalBsmtSF</th>\n",
       "      <th>1stFlrSF</th>\n",
       "      <th>...</th>\n",
       "      <th>HalfBath</th>\n",
       "      <th>BedroomAbvGr</th>\n",
       "      <th>KitchenAbvGr</th>\n",
       "      <th>TotRmsAbvGrd</th>\n",
       "      <th>Fireplaces</th>\n",
       "      <th>GarageCars</th>\n",
       "      <th>GarageArea</th>\n",
       "      <th>MoSold</th>\n",
       "      <th>Grvl</th>\n",
       "      <th>Pave</th>\n",
       "    </tr>\n",
       "  </thead>\n",
       "  <tbody>\n",
       "    <tr>\n",
       "      <th>0</th>\n",
       "      <td>60</td>\n",
       "      <td>65.0</td>\n",
       "      <td>8450</td>\n",
       "      <td>7</td>\n",
       "      <td>5</td>\n",
       "      <td>196.0</td>\n",
       "      <td>706</td>\n",
       "      <td>150</td>\n",
       "      <td>856</td>\n",
       "      <td>856</td>\n",
       "      <td>...</td>\n",
       "      <td>1</td>\n",
       "      <td>3</td>\n",
       "      <td>1</td>\n",
       "      <td>8</td>\n",
       "      <td>0</td>\n",
       "      <td>2</td>\n",
       "      <td>548</td>\n",
       "      <td>2</td>\n",
       "      <td>0</td>\n",
       "      <td>1</td>\n",
       "    </tr>\n",
       "    <tr>\n",
       "      <th>1</th>\n",
       "      <td>20</td>\n",
       "      <td>80.0</td>\n",
       "      <td>9600</td>\n",
       "      <td>6</td>\n",
       "      <td>8</td>\n",
       "      <td>0.0</td>\n",
       "      <td>978</td>\n",
       "      <td>284</td>\n",
       "      <td>1262</td>\n",
       "      <td>1262</td>\n",
       "      <td>...</td>\n",
       "      <td>0</td>\n",
       "      <td>3</td>\n",
       "      <td>1</td>\n",
       "      <td>6</td>\n",
       "      <td>1</td>\n",
       "      <td>2</td>\n",
       "      <td>460</td>\n",
       "      <td>5</td>\n",
       "      <td>0</td>\n",
       "      <td>1</td>\n",
       "    </tr>\n",
       "  </tbody>\n",
       "</table>\n",
       "<p>2 rows × 26 columns</p>\n",
       "</div>"
      ],
      "text/plain": [
       "   MSSubClass  LotFrontage  LotArea  OverallQual  OverallCond  MasVnrArea  \\\n",
       "0          60         65.0     8450            7            5       196.0   \n",
       "1          20         80.0     9600            6            8         0.0   \n",
       "\n",
       "   BsmtFinSF1  BsmtUnfSF  TotalBsmtSF  1stFlrSF  ...   HalfBath  BedroomAbvGr  \\\n",
       "0         706        150          856       856  ...          1             3   \n",
       "1         978        284         1262      1262  ...          0             3   \n",
       "\n",
       "   KitchenAbvGr  TotRmsAbvGrd  Fireplaces  GarageCars  GarageArea  MoSold  \\\n",
       "0             1             8           0           2         548       2   \n",
       "1             1             6           1           2         460       5   \n",
       "\n",
       "   Grvl  Pave  \n",
       "0     0     1  \n",
       "1     0     1  \n",
       "\n",
       "[2 rows x 26 columns]"
      ]
     },
     "execution_count": 17,
     "metadata": {},
     "output_type": "execute_result"
    }
   ],
   "source": [
    "train_x_d.head(2)"
   ]
  },
  {
   "cell_type": "markdown",
   "metadata": {},
   "source": [
    "### part e"
   ]
  },
  {
   "cell_type": "code",
   "execution_count": 18,
   "metadata": {},
   "outputs": [],
   "source": [
    "from sklearn.preprocessing import StandardScaler\n",
    "scaler = StandardScaler().fit(train_x_d.values)\n",
    "scaled_features = scaler.transform(train_x_d.values)"
   ]
  },
  {
   "cell_type": "code",
   "execution_count": 19,
   "metadata": {},
   "outputs": [],
   "source": [
    "train_x_e =  pd.DataFrame(scaled_features, index=train_x_d.index, columns=train_x_d.columns)"
   ]
  },
  {
   "cell_type": "code",
   "execution_count": 20,
   "metadata": {},
   "outputs": [
    {
     "data": {
      "text/html": [
       "<div>\n",
       "<style scoped>\n",
       "    .dataframe tbody tr th:only-of-type {\n",
       "        vertical-align: middle;\n",
       "    }\n",
       "\n",
       "    .dataframe tbody tr th {\n",
       "        vertical-align: top;\n",
       "    }\n",
       "\n",
       "    .dataframe thead th {\n",
       "        text-align: right;\n",
       "    }\n",
       "</style>\n",
       "<table border=\"1\" class=\"dataframe\">\n",
       "  <thead>\n",
       "    <tr style=\"text-align: right;\">\n",
       "      <th></th>\n",
       "      <th>MSSubClass</th>\n",
       "      <th>LotFrontage</th>\n",
       "      <th>LotArea</th>\n",
       "      <th>OverallQual</th>\n",
       "      <th>OverallCond</th>\n",
       "      <th>MasVnrArea</th>\n",
       "      <th>BsmtFinSF1</th>\n",
       "      <th>BsmtUnfSF</th>\n",
       "      <th>TotalBsmtSF</th>\n",
       "      <th>1stFlrSF</th>\n",
       "      <th>...</th>\n",
       "      <th>HalfBath</th>\n",
       "      <th>BedroomAbvGr</th>\n",
       "      <th>KitchenAbvGr</th>\n",
       "      <th>TotRmsAbvGrd</th>\n",
       "      <th>Fireplaces</th>\n",
       "      <th>GarageCars</th>\n",
       "      <th>GarageArea</th>\n",
       "      <th>MoSold</th>\n",
       "      <th>Grvl</th>\n",
       "      <th>Pave</th>\n",
       "    </tr>\n",
       "  </thead>\n",
       "  <tbody>\n",
       "    <tr>\n",
       "      <th>0</th>\n",
       "      <td>0.073872</td>\n",
       "      <td>-0.235351</td>\n",
       "      <td>-0.196474</td>\n",
       "      <td>0.632900</td>\n",
       "      <td>-0.529618</td>\n",
       "      <td>0.464035</td>\n",
       "      <td>0.589782</td>\n",
       "      <td>-0.939672</td>\n",
       "      <td>-0.486827</td>\n",
       "      <td>-0.802481</td>\n",
       "      <td>...</td>\n",
       "      <td>1.230454</td>\n",
       "      <td>0.178216</td>\n",
       "      <td>-0.208547</td>\n",
       "      <td>0.935889</td>\n",
       "      <td>-0.939129</td>\n",
       "      <td>0.316364</td>\n",
       "      <td>0.357524</td>\n",
       "      <td>-1.601265</td>\n",
       "      <td>-0.063372</td>\n",
       "      <td>0.063372</td>\n",
       "    </tr>\n",
       "    <tr>\n",
       "      <th>1</th>\n",
       "      <td>-0.873204</td>\n",
       "      <td>0.475965</td>\n",
       "      <td>-0.095659</td>\n",
       "      <td>-0.090414</td>\n",
       "      <td>2.177118</td>\n",
       "      <td>-0.576236</td>\n",
       "      <td>1.204925</td>\n",
       "      <td>-0.638291</td>\n",
       "      <td>0.475863</td>\n",
       "      <td>0.280104</td>\n",
       "      <td>...</td>\n",
       "      <td>-0.773542</td>\n",
       "      <td>0.178216</td>\n",
       "      <td>-0.208547</td>\n",
       "      <td>-0.307817</td>\n",
       "      <td>0.600426</td>\n",
       "      <td>0.316364</td>\n",
       "      <td>-0.063938</td>\n",
       "      <td>-0.485919</td>\n",
       "      <td>-0.063372</td>\n",
       "      <td>0.063372</td>\n",
       "    </tr>\n",
       "    <tr>\n",
       "      <th>2</th>\n",
       "      <td>0.073872</td>\n",
       "      <td>-0.093088</td>\n",
       "      <td>0.048990</td>\n",
       "      <td>0.632900</td>\n",
       "      <td>-0.529618</td>\n",
       "      <td>0.283580</td>\n",
       "      <td>0.092240</td>\n",
       "      <td>-0.300924</td>\n",
       "      <td>-0.335073</td>\n",
       "      <td>-0.631827</td>\n",
       "      <td>...</td>\n",
       "      <td>1.230454</td>\n",
       "      <td>0.178216</td>\n",
       "      <td>-0.208547</td>\n",
       "      <td>-0.307817</td>\n",
       "      <td>0.600426</td>\n",
       "      <td>0.316364</td>\n",
       "      <td>0.644884</td>\n",
       "      <td>1.001209</td>\n",
       "      <td>-0.063372</td>\n",
       "      <td>0.063372</td>\n",
       "    </tr>\n",
       "    <tr>\n",
       "      <th>3</th>\n",
       "      <td>0.310641</td>\n",
       "      <td>-0.472456</td>\n",
       "      <td>-0.100042</td>\n",
       "      <td>0.632900</td>\n",
       "      <td>-0.529618</td>\n",
       "      <td>-0.576236</td>\n",
       "      <td>-0.518380</td>\n",
       "      <td>-0.062519</td>\n",
       "      <td>-0.723943</td>\n",
       "      <td>-0.522502</td>\n",
       "      <td>...</td>\n",
       "      <td>-0.773542</td>\n",
       "      <td>0.178216</td>\n",
       "      <td>-0.208547</td>\n",
       "      <td>0.314036</td>\n",
       "      <td>0.600426</td>\n",
       "      <td>1.662593</td>\n",
       "      <td>0.807722</td>\n",
       "      <td>-1.601265</td>\n",
       "      <td>-0.063372</td>\n",
       "      <td>0.063372</td>\n",
       "    </tr>\n",
       "    <tr>\n",
       "      <th>4</th>\n",
       "      <td>0.073872</td>\n",
       "      <td>0.665650</td>\n",
       "      <td>0.312864</td>\n",
       "      <td>1.356214</td>\n",
       "      <td>-0.529618</td>\n",
       "      <td>1.281391</td>\n",
       "      <td>0.474443</td>\n",
       "      <td>-0.174974</td>\n",
       "      <td>0.198437</td>\n",
       "      <td>-0.031872</td>\n",
       "      <td>...</td>\n",
       "      <td>1.230454</td>\n",
       "      <td>1.407294</td>\n",
       "      <td>-0.208547</td>\n",
       "      <td>1.557742</td>\n",
       "      <td>0.600426</td>\n",
       "      <td>1.662593</td>\n",
       "      <td>1.736853</td>\n",
       "      <td>2.116554</td>\n",
       "      <td>-0.063372</td>\n",
       "      <td>0.063372</td>\n",
       "    </tr>\n",
       "    <tr>\n",
       "      <th>5</th>\n",
       "      <td>-0.162897</td>\n",
       "      <td>0.713071</td>\n",
       "      <td>0.300152</td>\n",
       "      <td>-0.813729</td>\n",
       "      <td>-0.529618</td>\n",
       "      <td>-0.576236</td>\n",
       "      <td>0.648582</td>\n",
       "      <td>-1.133096</td>\n",
       "      <td>-0.629097</td>\n",
       "      <td>-0.962469</td>\n",
       "      <td>...</td>\n",
       "      <td>1.230454</td>\n",
       "      <td>-2.279938</td>\n",
       "      <td>-0.208547</td>\n",
       "      <td>-0.929670</td>\n",
       "      <td>-0.939129</td>\n",
       "      <td>0.316364</td>\n",
       "      <td>0.031849</td>\n",
       "      <td>1.372990</td>\n",
       "      <td>-0.063372</td>\n",
       "      <td>0.063372</td>\n",
       "    </tr>\n",
       "    <tr>\n",
       "      <th>6</th>\n",
       "      <td>-0.873204</td>\n",
       "      <td>0.238860</td>\n",
       "      <td>-0.053229</td>\n",
       "      <td>1.356214</td>\n",
       "      <td>-0.529618</td>\n",
       "      <td>0.410960</td>\n",
       "      <td>2.089193</td>\n",
       "      <td>-0.564071</td>\n",
       "      <td>1.481234</td>\n",
       "      <td>1.432018</td>\n",
       "      <td>...</td>\n",
       "      <td>-0.773542</td>\n",
       "      <td>0.178216</td>\n",
       "      <td>-0.208547</td>\n",
       "      <td>0.314036</td>\n",
       "      <td>0.600426</td>\n",
       "      <td>0.316364</td>\n",
       "      <td>0.778986</td>\n",
       "      <td>0.629427</td>\n",
       "      <td>-0.063372</td>\n",
       "      <td>0.063372</td>\n",
       "    </tr>\n",
       "  </tbody>\n",
       "</table>\n",
       "<p>7 rows × 26 columns</p>\n",
       "</div>"
      ],
      "text/plain": [
       "   MSSubClass  LotFrontage   LotArea  OverallQual  OverallCond  MasVnrArea  \\\n",
       "0    0.073872    -0.235351 -0.196474     0.632900    -0.529618    0.464035   \n",
       "1   -0.873204     0.475965 -0.095659    -0.090414     2.177118   -0.576236   \n",
       "2    0.073872    -0.093088  0.048990     0.632900    -0.529618    0.283580   \n",
       "3    0.310641    -0.472456 -0.100042     0.632900    -0.529618   -0.576236   \n",
       "4    0.073872     0.665650  0.312864     1.356214    -0.529618    1.281391   \n",
       "5   -0.162897     0.713071  0.300152    -0.813729    -0.529618   -0.576236   \n",
       "6   -0.873204     0.238860 -0.053229     1.356214    -0.529618    0.410960   \n",
       "\n",
       "   BsmtFinSF1  BsmtUnfSF  TotalBsmtSF  1stFlrSF    ...     HalfBath  \\\n",
       "0    0.589782  -0.939672    -0.486827 -0.802481    ...     1.230454   \n",
       "1    1.204925  -0.638291     0.475863  0.280104    ...    -0.773542   \n",
       "2    0.092240  -0.300924    -0.335073 -0.631827    ...     1.230454   \n",
       "3   -0.518380  -0.062519    -0.723943 -0.522502    ...    -0.773542   \n",
       "4    0.474443  -0.174974     0.198437 -0.031872    ...     1.230454   \n",
       "5    0.648582  -1.133096    -0.629097 -0.962469    ...     1.230454   \n",
       "6    2.089193  -0.564071     1.481234  1.432018    ...    -0.773542   \n",
       "\n",
       "   BedroomAbvGr  KitchenAbvGr  TotRmsAbvGrd  Fireplaces  GarageCars  \\\n",
       "0      0.178216     -0.208547      0.935889   -0.939129    0.316364   \n",
       "1      0.178216     -0.208547     -0.307817    0.600426    0.316364   \n",
       "2      0.178216     -0.208547     -0.307817    0.600426    0.316364   \n",
       "3      0.178216     -0.208547      0.314036    0.600426    1.662593   \n",
       "4      1.407294     -0.208547      1.557742    0.600426    1.662593   \n",
       "5     -2.279938     -0.208547     -0.929670   -0.939129    0.316364   \n",
       "6      0.178216     -0.208547      0.314036    0.600426    0.316364   \n",
       "\n",
       "   GarageArea    MoSold      Grvl      Pave  \n",
       "0    0.357524 -1.601265 -0.063372  0.063372  \n",
       "1   -0.063938 -0.485919 -0.063372  0.063372  \n",
       "2    0.644884  1.001209 -0.063372  0.063372  \n",
       "3    0.807722 -1.601265 -0.063372  0.063372  \n",
       "4    1.736853  2.116554 -0.063372  0.063372  \n",
       "5    0.031849  1.372990 -0.063372  0.063372  \n",
       "6    0.778986  0.629427 -0.063372  0.063372  \n",
       "\n",
       "[7 rows x 26 columns]"
      ]
     },
     "execution_count": 20,
     "metadata": {},
     "output_type": "execute_result"
    }
   ],
   "source": [
    "train_x_e.head(7)"
   ]
  },
  {
   "cell_type": "markdown",
   "metadata": {},
   "source": [
    "## LINEAR REGRESSION TO PREDICT HOUSE PRICES"
   ]
  },
  {
   "cell_type": "markdown",
   "metadata": {},
   "source": [
    "### part f"
   ]
  },
  {
   "cell_type": "code",
   "execution_count": 21,
   "metadata": {},
   "outputs": [
    {
     "name": "stderr",
     "output_type": "stream",
     "text": [
      "/usr/local/lib/python3.6/site-packages/sklearn/linear_model/base.py:509: RuntimeWarning: internal gelsd driver lwork query error, required iwork dimension not returned. This is likely the result of LAPACK bug 0038, fixed in LAPACK 3.2.2 (released July 21, 2010). Falling back to 'gelss' driver.\n",
      "  linalg.lstsq(X, y)\n"
     ]
    }
   ],
   "source": [
    "from sklearn.linear_model import LinearRegression\n",
    "lr_model = LinearRegression().fit(train_x_e,train_y)"
   ]
  },
  {
   "cell_type": "code",
   "execution_count": 22,
   "metadata": {},
   "outputs": [
    {
     "name": "stdout",
     "output_type": "stream",
     "text": [
      "1041634341.4633691\n"
     ]
    }
   ],
   "source": [
    "from sklearn.metrics import mean_squared_error\n",
    "predicts = lr_model.predict(train_x_e)\n",
    "train_mse = mean_squared_error(train_y, predicts)\n",
    "print(train_mse)"
   ]
  },
  {
   "cell_type": "markdown",
   "metadata": {},
   "source": [
    "### part g"
   ]
  },
  {
   "cell_type": "code",
   "execution_count": 23,
   "metadata": {},
   "outputs": [
    {
     "name": "stdout",
     "output_type": "stream",
     "text": [
      "[-9.69013184e+08 -7.68184442e+08 -1.66781305e+09 -1.46841147e+09\n",
      " -8.84970495e+08]\n"
     ]
    },
    {
     "name": "stderr",
     "output_type": "stream",
     "text": [
      "/usr/local/lib/python3.6/site-packages/sklearn/cross_validation.py:41: DeprecationWarning: This module was deprecated in version 0.18 in favor of the model_selection module into which all the refactored classes and functions are moved. Also note that the interface of the new CV iterators are different from that of this module. This module will be removed in 0.20.\n",
      "  \"This module will be removed in 0.20.\", DeprecationWarning)\n",
      "/usr/local/lib/python3.6/site-packages/sklearn/metrics/scorer.py:100: DeprecationWarning: Scoring method mean_squared_error was renamed to neg_mean_squared_error in version 0.18 and will be removed in 0.20.\n",
      "  sample_weight=sample_weight)\n",
      "/usr/local/lib/python3.6/site-packages/sklearn/metrics/scorer.py:100: DeprecationWarning: Scoring method mean_squared_error was renamed to neg_mean_squared_error in version 0.18 and will be removed in 0.20.\n",
      "  sample_weight=sample_weight)\n",
      "/usr/local/lib/python3.6/site-packages/sklearn/metrics/scorer.py:100: DeprecationWarning: Scoring method mean_squared_error was renamed to neg_mean_squared_error in version 0.18 and will be removed in 0.20.\n",
      "  sample_weight=sample_weight)\n",
      "/usr/local/lib/python3.6/site-packages/sklearn/metrics/scorer.py:100: DeprecationWarning: Scoring method mean_squared_error was renamed to neg_mean_squared_error in version 0.18 and will be removed in 0.20.\n",
      "  sample_weight=sample_weight)\n",
      "/usr/local/lib/python3.6/site-packages/sklearn/metrics/scorer.py:100: DeprecationWarning: Scoring method mean_squared_error was renamed to neg_mean_squared_error in version 0.18 and will be removed in 0.20.\n",
      "  sample_weight=sample_weight)\n"
     ]
    }
   ],
   "source": [
    "from sklearn import cross_validation as CV\n",
    "\n",
    "lr_model2 = LinearRegression()\n",
    "cross_val_mse_scores = CV.cross_val_score(lr_model2, train_x_e,train_y, cv=5, scoring='mean_squared_error')\n",
    "\n",
    "print(cross_val_mse_scores)"
   ]
  },
  {
   "cell_type": "code",
   "execution_count": 24,
   "metadata": {},
   "outputs": [
    {
     "name": "stdout",
     "output_type": "stream",
     "text": [
      "-1151678527.0528073\n"
     ]
    }
   ],
   "source": [
    "average_cross_val_mse = sum(cross_val_mse_scores)/len(cross_val_mse_scores)\n",
    "print(average_cross_val_mse)"
   ]
  },
  {
   "cell_type": "markdown",
   "metadata": {},
   "source": [
    "### part h"
   ]
  },
  {
   "cell_type": "code",
   "execution_count": 25,
   "metadata": {},
   "outputs": [],
   "source": [
    "test_x = test.drop(u'SalePrice',axis=1).fillna(train_x_a.median()) # Fill nans with MEDIAN OF TRAINING DATA VALUES\n",
    "test_y = test[['SalePrice']]"
   ]
  },
  {
   "cell_type": "code",
   "execution_count": 26,
   "metadata": {},
   "outputs": [],
   "source": [
    "one_hot = pd.get_dummies(test_x['Street'])"
   ]
  },
  {
   "cell_type": "code",
   "execution_count": 27,
   "metadata": {},
   "outputs": [],
   "source": [
    "test_x = pd.concat([test_x.drop([\"Street\"],axis=1),one_hot],axis=1)"
   ]
  },
  {
   "cell_type": "code",
   "execution_count": 28,
   "metadata": {},
   "outputs": [],
   "source": [
    "scaled_features = scaler.transform(test_x) # Use the same scaler that you used for training. DONT FIT TEST DATA\n",
    "test_x =  pd.DataFrame(scaled_features, index=test_x.index, columns=test_x.columns)"
   ]
  },
  {
   "cell_type": "code",
   "execution_count": 29,
   "metadata": {},
   "outputs": [
    {
     "data": {
      "text/html": [
       "<div>\n",
       "<style scoped>\n",
       "    .dataframe tbody tr th:only-of-type {\n",
       "        vertical-align: middle;\n",
       "    }\n",
       "\n",
       "    .dataframe tbody tr th {\n",
       "        vertical-align: top;\n",
       "    }\n",
       "\n",
       "    .dataframe thead th {\n",
       "        text-align: right;\n",
       "    }\n",
       "</style>\n",
       "<table border=\"1\" class=\"dataframe\">\n",
       "  <thead>\n",
       "    <tr style=\"text-align: right;\">\n",
       "      <th></th>\n",
       "      <th>MSSubClass</th>\n",
       "      <th>LotFrontage</th>\n",
       "      <th>LotArea</th>\n",
       "      <th>OverallQual</th>\n",
       "      <th>OverallCond</th>\n",
       "      <th>MasVnrArea</th>\n",
       "      <th>BsmtFinSF1</th>\n",
       "      <th>BsmtUnfSF</th>\n",
       "      <th>TotalBsmtSF</th>\n",
       "      <th>1stFlrSF</th>\n",
       "      <th>...</th>\n",
       "      <th>HalfBath</th>\n",
       "      <th>BedroomAbvGr</th>\n",
       "      <th>KitchenAbvGr</th>\n",
       "      <th>TotRmsAbvGrd</th>\n",
       "      <th>Fireplaces</th>\n",
       "      <th>GarageCars</th>\n",
       "      <th>GarageArea</th>\n",
       "      <th>MoSold</th>\n",
       "      <th>Grvl</th>\n",
       "      <th>Pave</th>\n",
       "    </tr>\n",
       "  </thead>\n",
       "  <tbody>\n",
       "    <tr>\n",
       "      <th>0</th>\n",
       "      <td>-0.873204</td>\n",
       "      <td>0.191439</td>\n",
       "      <td>-0.042533</td>\n",
       "      <td>-2.260357</td>\n",
       "      <td>-2.334109</td>\n",
       "      <td>-0.576236</td>\n",
       "      <td>-1.006876</td>\n",
       "      <td>-1.277039</td>\n",
       "      <td>-2.516538</td>\n",
       "      <td>-0.567832</td>\n",
       "      <td>...</td>\n",
       "      <td>-0.773542</td>\n",
       "      <td>-1.050861</td>\n",
       "      <td>-0.208547</td>\n",
       "      <td>-1.551524</td>\n",
       "      <td>-0.939129</td>\n",
       "      <td>0.316364</td>\n",
       "      <td>0.261737</td>\n",
       "      <td>0.257645</td>\n",
       "      <td>-0.063372</td>\n",
       "      <td>0.063372</td>\n",
       "    </tr>\n",
       "    <tr>\n",
       "      <th>1</th>\n",
       "      <td>-0.636435</td>\n",
       "      <td>-0.472456</td>\n",
       "      <td>-0.463855</td>\n",
       "      <td>-0.813729</td>\n",
       "      <td>0.372627</td>\n",
       "      <td>-0.576236</td>\n",
       "      <td>-1.006876</td>\n",
       "      <td>0.277097</td>\n",
       "      <td>-0.878068</td>\n",
       "      <td>-1.242448</td>\n",
       "      <td>...</td>\n",
       "      <td>-0.773542</td>\n",
       "      <td>-1.050861</td>\n",
       "      <td>-0.208547</td>\n",
       "      <td>-1.551524</td>\n",
       "      <td>-0.939129</td>\n",
       "      <td>-1.029865</td>\n",
       "      <td>-1.232536</td>\n",
       "      <td>-1.973046</td>\n",
       "      <td>-0.063372</td>\n",
       "      <td>0.063372</td>\n",
       "    </tr>\n",
       "  </tbody>\n",
       "</table>\n",
       "<p>2 rows × 26 columns</p>\n",
       "</div>"
      ],
      "text/plain": [
       "   MSSubClass  LotFrontage   LotArea  OverallQual  OverallCond  MasVnrArea  \\\n",
       "0   -0.873204     0.191439 -0.042533    -2.260357    -2.334109   -0.576236   \n",
       "1   -0.636435    -0.472456 -0.463855    -0.813729     0.372627   -0.576236   \n",
       "\n",
       "   BsmtFinSF1  BsmtUnfSF  TotalBsmtSF  1stFlrSF    ...     HalfBath  \\\n",
       "0   -1.006876  -1.277039    -2.516538 -0.567832    ...    -0.773542   \n",
       "1   -1.006876   0.277097    -0.878068 -1.242448    ...    -0.773542   \n",
       "\n",
       "   BedroomAbvGr  KitchenAbvGr  TotRmsAbvGrd  Fireplaces  GarageCars  \\\n",
       "0     -1.050861     -0.208547     -1.551524   -0.939129    0.316364   \n",
       "1     -1.050861     -0.208547     -1.551524   -0.939129   -1.029865   \n",
       "\n",
       "   GarageArea    MoSold      Grvl      Pave  \n",
       "0    0.261737  0.257645 -0.063372  0.063372  \n",
       "1   -1.232536 -1.973046 -0.063372  0.063372  \n",
       "\n",
       "[2 rows x 26 columns]"
      ]
     },
     "execution_count": 29,
     "metadata": {},
     "output_type": "execute_result"
    }
   ],
   "source": [
    "test_x.head(2)"
   ]
  },
  {
   "cell_type": "code",
   "execution_count": 30,
   "metadata": {},
   "outputs": [
    {
     "data": {
      "text/html": [
       "<div>\n",
       "<style scoped>\n",
       "    .dataframe tbody tr th:only-of-type {\n",
       "        vertical-align: middle;\n",
       "    }\n",
       "\n",
       "    .dataframe tbody tr th {\n",
       "        vertical-align: top;\n",
       "    }\n",
       "\n",
       "    .dataframe thead th {\n",
       "        text-align: right;\n",
       "    }\n",
       "</style>\n",
       "<table border=\"1\" class=\"dataframe\">\n",
       "  <thead>\n",
       "    <tr style=\"text-align: right;\">\n",
       "      <th></th>\n",
       "      <th>SalePrice</th>\n",
       "    </tr>\n",
       "  </thead>\n",
       "  <tbody>\n",
       "    <tr>\n",
       "      <th>0</th>\n",
       "      <td>82000</td>\n",
       "    </tr>\n",
       "    <tr>\n",
       "      <th>1</th>\n",
       "      <td>86000</td>\n",
       "    </tr>\n",
       "  </tbody>\n",
       "</table>\n",
       "</div>"
      ],
      "text/plain": [
       "   SalePrice\n",
       "0      82000\n",
       "1      86000"
      ]
     },
     "execution_count": 30,
     "metadata": {},
     "output_type": "execute_result"
    }
   ],
   "source": [
    "test_y.head(2)"
   ]
  },
  {
   "cell_type": "markdown",
   "metadata": {},
   "source": [
    "### part i"
   ]
  },
  {
   "cell_type": "code",
   "execution_count": 31,
   "metadata": {},
   "outputs": [],
   "source": [
    "predicted_values = lr_model.predict(test_x)"
   ]
  },
  {
   "cell_type": "code",
   "execution_count": 32,
   "metadata": {},
   "outputs": [
    {
     "name": "stdout",
     "output_type": "stream",
     "text": [
      "[[119236.49420048]\n",
      " [ 83816.49420048]\n",
      " [146940.49420048]]\n"
     ]
    }
   ],
   "source": [
    "print(predicted_values[10:13])"
   ]
  },
  {
   "cell_type": "code",
   "execution_count": 33,
   "metadata": {},
   "outputs": [
    {
     "name": "stdout",
     "output_type": "stream",
     "text": [
      "1936165973.8926947\n"
     ]
    }
   ],
   "source": [
    "test_mse_score = mean_squared_error(test_y, predicted_values)\n",
    "print(test_mse_score)"
   ]
  },
  {
   "cell_type": "markdown",
   "metadata": {},
   "source": [
    "## CLASSIFICATION MODEL TO PREDICT HOUSE PRICE CATEGORY"
   ]
  },
  {
   "cell_type": "markdown",
   "metadata": {},
   "source": [
    "### part j"
   ]
  },
  {
   "cell_type": "markdown",
   "metadata": {},
   "source": [
    "house price < 100.000 <br>\n",
    "100.000 <= house price < 200.000 <br>\n",
    "200.000 <= house price < 300.000 <br>\n",
    "300.000 <= house price < 400.000 <br>\n",
    "400.000 <= house price <br>"
   ]
  },
  {
   "cell_type": "code",
   "execution_count": 34,
   "metadata": {},
   "outputs": [],
   "source": [
    "def categorize(x):\n",
    "    if x<100000:\n",
    "        return 1\n",
    "    elif 100000<=x and x<200000:\n",
    "        return 2\n",
    "    elif 200000<=x and x<300000:\n",
    "        return 3\n",
    "    elif 300000<=x and x<400000:\n",
    "        return 4\n",
    "    else:\n",
    "        return 5"
   ]
  },
  {
   "cell_type": "code",
   "execution_count": 35,
   "metadata": {},
   "outputs": [],
   "source": [
    "train_y_j = train_y.applymap(lambda x: categorize(x))\n",
    "test_y_j = test_y.applymap(lambda x: categorize(x))"
   ]
  },
  {
   "cell_type": "code",
   "execution_count": 37,
   "metadata": {},
   "outputs": [
    {
     "data": {
      "text/html": [
       "<div>\n",
       "<style scoped>\n",
       "    .dataframe tbody tr th:only-of-type {\n",
       "        vertical-align: middle;\n",
       "    }\n",
       "\n",
       "    .dataframe tbody tr th {\n",
       "        vertical-align: top;\n",
       "    }\n",
       "\n",
       "    .dataframe thead th {\n",
       "        text-align: right;\n",
       "    }\n",
       "</style>\n",
       "<table border=\"1\" class=\"dataframe\">\n",
       "  <thead>\n",
       "    <tr style=\"text-align: right;\">\n",
       "      <th></th>\n",
       "      <th>SalePrice</th>\n",
       "    </tr>\n",
       "  </thead>\n",
       "  <tbody>\n",
       "    <tr>\n",
       "      <th>0</th>\n",
       "      <td>3</td>\n",
       "    </tr>\n",
       "    <tr>\n",
       "      <th>1</th>\n",
       "      <td>2</td>\n",
       "    </tr>\n",
       "  </tbody>\n",
       "</table>\n",
       "</div>"
      ],
      "text/plain": [
       "   SalePrice\n",
       "0          3\n",
       "1          2"
      ]
     },
     "execution_count": 37,
     "metadata": {},
     "output_type": "execute_result"
    }
   ],
   "source": [
    "train_y_j.head(2)"
   ]
  },
  {
   "cell_type": "code",
   "execution_count": 38,
   "metadata": {},
   "outputs": [
    {
     "data": {
      "text/html": [
       "<div>\n",
       "<style scoped>\n",
       "    .dataframe tbody tr th:only-of-type {\n",
       "        vertical-align: middle;\n",
       "    }\n",
       "\n",
       "    .dataframe tbody tr th {\n",
       "        vertical-align: top;\n",
       "    }\n",
       "\n",
       "    .dataframe thead th {\n",
       "        text-align: right;\n",
       "    }\n",
       "</style>\n",
       "<table border=\"1\" class=\"dataframe\">\n",
       "  <thead>\n",
       "    <tr style=\"text-align: right;\">\n",
       "      <th></th>\n",
       "      <th>SalePrice</th>\n",
       "    </tr>\n",
       "  </thead>\n",
       "  <tbody>\n",
       "    <tr>\n",
       "      <th>0</th>\n",
       "      <td>1</td>\n",
       "    </tr>\n",
       "    <tr>\n",
       "      <th>1</th>\n",
       "      <td>1</td>\n",
       "    </tr>\n",
       "  </tbody>\n",
       "</table>\n",
       "</div>"
      ],
      "text/plain": [
       "   SalePrice\n",
       "0          1\n",
       "1          1"
      ]
     },
     "execution_count": 38,
     "metadata": {},
     "output_type": "execute_result"
    }
   ],
   "source": [
    "test_y_j.head(2)"
   ]
  },
  {
   "cell_type": "markdown",
   "metadata": {},
   "source": [
    "### part k"
   ]
  },
  {
   "cell_type": "code",
   "execution_count": 39,
   "metadata": {},
   "outputs": [],
   "source": [
    "from sklearn.multiclass import OneVsOneClassifier\n",
    "from sklearn.linear_model import LogisticRegression"
   ]
  },
  {
   "cell_type": "code",
   "execution_count": 40,
   "metadata": {},
   "outputs": [],
   "source": [
    "lr = LogisticRegression()"
   ]
  },
  {
   "cell_type": "code",
   "execution_count": 41,
   "metadata": {},
   "outputs": [],
   "source": [
    "model = OneVsOneClassifier(lr)"
   ]
  },
  {
   "cell_type": "markdown",
   "metadata": {},
   "source": [
    "### part l"
   ]
  },
  {
   "cell_type": "code",
   "execution_count": 43,
   "metadata": {},
   "outputs": [
    {
     "name": "stdout",
     "output_type": "stream",
     "text": [
      "\n",
      "Fold: 1\n",
      "[[ 42  22   0   0   0]\n",
      " [  5 466  20   0   1]\n",
      " [  0  31 139   5   0]\n",
      " [  0   0  13  36   3]\n",
      " [  0   0   0   9   8]]\n",
      "accuracy: 0.86375\n",
      "precision: 0.86375\n",
      "recall: 0.86375\n",
      "f1: 0.86375\n",
      "\n",
      "Fold: 2\n",
      "[[ 31  25   0   0   0]\n",
      " [  7 474  21   0   1]\n",
      " [  0  31 134   5   1]\n",
      " [  0   0  14  39   0]\n",
      " [  0   0   0   5  12]]\n",
      "accuracy: 0.8625\n",
      "precision: 0.8625\n",
      "recall: 0.8625\n",
      "f1: 0.8625\n",
      "\n",
      "Fold: 3\n",
      "[[ 42  20   0   0   0]\n",
      " [  8 461  21   1   0]\n",
      " [  0  26 143   8   0]\n",
      " [  0   0  19  36   0]\n",
      " [  0   0   0   4  11]]\n",
      "accuracy: 0.86625\n",
      "precision: 0.86625\n",
      "recall: 0.86625\n",
      "f1: 0.86625\n",
      "\n",
      "Fold: 4\n",
      "[[ 37  23   0   0   0]\n",
      " [  8 464  22   0   1]\n",
      " [  0  29 142   7   1]\n",
      " [  0   0  16  32   2]\n",
      " [  0   0   0   7   9]]\n",
      "accuracy: 0.855\n",
      "precision: 0.855\n",
      "recall: 0.855\n",
      "f1: 0.855\n",
      "\n",
      "Fold: 5\n",
      "[[ 41  25   0   0   0]\n",
      " [  8 444  22   0   1]\n",
      " [  0  26 147   8   1]\n",
      " [  0   0  16  40   2]\n",
      " [  0   0   0   7  12]]\n",
      "accuracy: 0.855\n",
      "precision: 0.855\n",
      "recall: 0.855\n",
      "f1: 0.855\n"
     ]
    }
   ],
   "source": [
    "from sklearn.metrics import accuracy_score, precision_score, recall_score, f1_score, confusion_matrix\n",
    "from sklearn.model_selection import KFold\n",
    "\n",
    "kf = KFold(n_splits=5)\n",
    "X = train_x_e.values\n",
    "y = np.array([x[0] for x in train_y_j.values.tolist()])\n",
    "\n",
    "fold = 1\n",
    "for train_index, test_index in kf.split(X):\n",
    "    print(\"\\nFold: {}\".format(fold))\n",
    "    lr = LogisticRegression()\n",
    "    model = OneVsOneClassifier(lr)\n",
    "    \n",
    "    X_train, X_test = X[train_index], X[test_index]\n",
    "    y_train, y_test = y[train_index], y[test_index]\n",
    "    model.fit(X_train, y_train)\n",
    "    preds = model.predict(X_train)\n",
    "    \n",
    "    accuracy = accuracy_score(y_train,preds)\n",
    "    precision = precision_score(y_train,preds, average=\"micro\")\n",
    "    recall = recall_score(y_train,preds, average=\"micro\")\n",
    "    f1 = f1_score(y_train,preds, average=\"micro\")\n",
    "    confusion_matrix_ = confusion_matrix(y_train,preds)\n",
    "    print(confusion_matrix_)\n",
    "    print(\"accuracy: {}\\nprecision: {}\\nrecall: {}\\nf1: {}\".format(accuracy,precision,recall,f1)) \n",
    "    \n",
    "    fold+=1"
   ]
  },
  {
   "cell_type": "code",
   "execution_count": 44,
   "metadata": {},
   "outputs": [],
   "source": [
    "# Alternative Method\n",
    "from sklearn.model_selection import cross_val_predict\n",
    "\n",
    "y_train_pred = cross_val_predict(model, train_x_e, train_y_j.values.ravel(), cv=5)\n",
    "accuracy = accuracy_score(train_y_j.values.ravel(), y_train_pred)\n",
    "precision = precision_score(train_y_j.values.ravel(), y_train_pred, average = 'micro')\n",
    "recall = recall_score(train_y_j.values.ravel(), y_train_pred, average = 'micro')\n",
    "f1 = f1_score(train_y_j.values.ravel(), y_train_pred, average = 'micro')\n",
    "conf_max = confusion_matrix(train_y_j.values.ravel(), y_train_pred)"
   ]
  },
  {
   "cell_type": "code",
   "execution_count": 45,
   "metadata": {},
   "outputs": [
    {
     "name": "stdout",
     "output_type": "stream",
     "text": [
      "[[ 41  36   0   0   0]\n",
      " [ 13 567  32   1   1]\n",
      " [  0  40 164  15   2]\n",
      " [  0   0  22  41   4]\n",
      " [  0   0   2  13   6]]\n",
      "accuracy: 0.819\n",
      "precision: 0.819\n",
      "recall: 0.819\n",
      "f1: 0.819\n"
     ]
    }
   ],
   "source": [
    "print(conf_max)\n",
    "print(\"accuracy: {}\\nprecision: {}\\nrecall: {}\\nf1: {}\".format(accuracy,precision,recall,f1)) "
   ]
  },
  {
   "cell_type": "markdown",
   "metadata": {},
   "source": [
    "### part m"
   ]
  },
  {
   "cell_type": "code",
   "execution_count": 47,
   "metadata": {},
   "outputs": [
    {
     "name": "stderr",
     "output_type": "stream",
     "text": [
      "/usr/local/lib/python3.6/site-packages/sklearn/utils/validation.py:578: DataConversionWarning: A column-vector y was passed when a 1d array was expected. Please change the shape of y to (n_samples, ), for example using ravel().\n",
      "  y = column_or_1d(y, warn=True)\n"
     ]
    }
   ],
   "source": [
    "model.fit(train_x_e, train_y_j)\n",
    "predicted_values = model.predict(test_x)"
   ]
  },
  {
   "cell_type": "code",
   "execution_count": 48,
   "metadata": {},
   "outputs": [
    {
     "name": "stdout",
     "output_type": "stream",
     "text": [
      "[2 3 2]\n"
     ]
    }
   ],
   "source": [
    "print(predicted_values[20:23])"
   ]
  },
  {
   "cell_type": "code",
   "execution_count": 55,
   "metadata": {},
   "outputs": [],
   "source": [
    "accuracy = accuracy_score(test_y_j,predicted_values)\n",
    "precision = precision_score(test_y_j,predicted_values, average=\"micro\")\n",
    "recall = recall_score(test_y_j,predicted_values, average=\"micro\")\n",
    "f1 = f1_score(test_y_j,predicted_values, average=\"micro\")\n",
    "confusion_matrix_ = confusion_matrix(test_y_j.values.ravel(),predicted_values)"
   ]
  },
  {
   "cell_type": "code",
   "execution_count": 56,
   "metadata": {},
   "outputs": [
    {
     "name": "stdout",
     "output_type": "stream",
     "text": [
      "[[ 24  13   0   0   0]\n",
      " [  4 273  19   0   1]\n",
      " [  0  18  76   5   0]\n",
      " [  0   0   3  16   1]\n",
      " [  0   0   0   3   4]]\n",
      "accuracy: 0.8543478260869565\n",
      "precision: 0.8543478260869565\n",
      "recall: 0.8543478260869565\n",
      "f1: 0.8543478260869565\n"
     ]
    }
   ],
   "source": [
    "print(confusion_matrix_)\n",
    "print(\"accuracy: {}\\nprecision: {}\\nrecall: {}\\nf1: {}\".format(accuracy,precision,recall,f1)) "
   ]
  },
  {
   "cell_type": "code",
   "execution_count": null,
   "metadata": {},
   "outputs": [],
   "source": []
  }
 ],
 "metadata": {
  "kernelspec": {
   "display_name": "Python 3",
   "language": "python",
   "name": "python3"
  },
  "language_info": {
   "codemirror_mode": {
    "name": "ipython",
    "version": 3
   },
   "file_extension": ".py",
   "mimetype": "text/x-python",
   "name": "python",
   "nbconvert_exporter": "python",
   "pygments_lexer": "ipython3",
   "version": "3.6.5"
  }
 },
 "nbformat": 4,
 "nbformat_minor": 2
}
